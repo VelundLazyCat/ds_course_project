{
 "cells": [
  {
   "cell_type": "code",
   "execution_count": 19,
   "id": "b2a4c72b-cfc8-4aa8-985a-0ee87fbbc6f5",
   "metadata": {},
   "outputs": [],
   "source": [
    "import numpy as np\n",
    "import pandas as pd\n",
    "import matplotlib.pyplot as plt\n",
    "import seaborn as sns\n",
    "%matplotlib inline\n",
    "from sklearn.model_selection import train_test_split\n",
    "\n",
    "import tensorflow as tf\n",
    "from tensorflow import keras\n",
    "from keras.utils import pad_sequences\n",
    "from keras.models import Sequential\n",
    "from keras.layers import Embedding, SimpleRNN, Dense, GRU, Flatten\n",
    "from sklearn.preprocessing import StandardScaler\n",
    "from keras import ops\n",
    "import keras\n",
    "import joblib"
   ]
  },
  {
   "cell_type": "code",
   "execution_count": 4,
   "id": "c9ad07cf-aee0-4a4d-b4d0-e7f9c6ac6e7f",
   "metadata": {
    "scrolled": true
   },
   "outputs": [
    {
     "data": {
      "text/html": [
       "<div>\n",
       "<style scoped>\n",
       "    .dataframe tbody tr th:only-of-type {\n",
       "        vertical-align: middle;\n",
       "    }\n",
       "\n",
       "    .dataframe tbody tr th {\n",
       "        vertical-align: top;\n",
       "    }\n",
       "\n",
       "    .dataframe thead th {\n",
       "        text-align: right;\n",
       "    }\n",
       "</style>\n",
       "<table border=\"1\" class=\"dataframe\">\n",
       "  <thead>\n",
       "    <tr style=\"text-align: right;\">\n",
       "      <th></th>\n",
       "      <th>id</th>\n",
       "      <th>is_tv_subscriber</th>\n",
       "      <th>is_movie_package_subscriber</th>\n",
       "      <th>subscription_age</th>\n",
       "      <th>bill_avg</th>\n",
       "      <th>reamining_contract</th>\n",
       "      <th>service_failure_count</th>\n",
       "      <th>download_avg</th>\n",
       "      <th>upload_avg</th>\n",
       "      <th>download_over_limit</th>\n",
       "      <th>churn</th>\n",
       "    </tr>\n",
       "  </thead>\n",
       "  <tbody>\n",
       "    <tr>\n",
       "      <th>0</th>\n",
       "      <td>15</td>\n",
       "      <td>1</td>\n",
       "      <td>0</td>\n",
       "      <td>11.95</td>\n",
       "      <td>25</td>\n",
       "      <td>0.14</td>\n",
       "      <td>0</td>\n",
       "      <td>8.4</td>\n",
       "      <td>2.3</td>\n",
       "      <td>0</td>\n",
       "      <td>0</td>\n",
       "    </tr>\n",
       "    <tr>\n",
       "      <th>1</th>\n",
       "      <td>18</td>\n",
       "      <td>0</td>\n",
       "      <td>0</td>\n",
       "      <td>8.22</td>\n",
       "      <td>0</td>\n",
       "      <td>NaN</td>\n",
       "      <td>0</td>\n",
       "      <td>0.0</td>\n",
       "      <td>0.0</td>\n",
       "      <td>0</td>\n",
       "      <td>1</td>\n",
       "    </tr>\n",
       "    <tr>\n",
       "      <th>2</th>\n",
       "      <td>23</td>\n",
       "      <td>1</td>\n",
       "      <td>0</td>\n",
       "      <td>8.91</td>\n",
       "      <td>16</td>\n",
       "      <td>0.00</td>\n",
       "      <td>0</td>\n",
       "      <td>13.7</td>\n",
       "      <td>0.9</td>\n",
       "      <td>0</td>\n",
       "      <td>1</td>\n",
       "    </tr>\n",
       "    <tr>\n",
       "      <th>3</th>\n",
       "      <td>27</td>\n",
       "      <td>0</td>\n",
       "      <td>0</td>\n",
       "      <td>6.87</td>\n",
       "      <td>21</td>\n",
       "      <td>NaN</td>\n",
       "      <td>1</td>\n",
       "      <td>0.0</td>\n",
       "      <td>0.0</td>\n",
       "      <td>0</td>\n",
       "      <td>1</td>\n",
       "    </tr>\n",
       "    <tr>\n",
       "      <th>4</th>\n",
       "      <td>34</td>\n",
       "      <td>0</td>\n",
       "      <td>0</td>\n",
       "      <td>6.39</td>\n",
       "      <td>0</td>\n",
       "      <td>NaN</td>\n",
       "      <td>0</td>\n",
       "      <td>0.0</td>\n",
       "      <td>0.0</td>\n",
       "      <td>0</td>\n",
       "      <td>1</td>\n",
       "    </tr>\n",
       "  </tbody>\n",
       "</table>\n",
       "</div>"
      ],
      "text/plain": [
       "   id  is_tv_subscriber  is_movie_package_subscriber  subscription_age  \\\n",
       "0  15                 1                            0             11.95   \n",
       "1  18                 0                            0              8.22   \n",
       "2  23                 1                            0              8.91   \n",
       "3  27                 0                            0              6.87   \n",
       "4  34                 0                            0              6.39   \n",
       "\n",
       "   bill_avg  reamining_contract  service_failure_count  download_avg  \\\n",
       "0        25                0.14                      0           8.4   \n",
       "1         0                 NaN                      0           0.0   \n",
       "2        16                0.00                      0          13.7   \n",
       "3        21                 NaN                      1           0.0   \n",
       "4         0                 NaN                      0           0.0   \n",
       "\n",
       "   upload_avg  download_over_limit  churn  \n",
       "0         2.3                    0      0  \n",
       "1         0.0                    0      1  \n",
       "2         0.9                    0      1  \n",
       "3         0.0                    0      1  \n",
       "4         0.0                    0      1  "
      ]
     },
     "execution_count": 4,
     "metadata": {},
     "output_type": "execute_result"
    }
   ],
   "source": [
    "# Завантажимо файл і подивимось на вміст\n",
    "path = r'C:\\PythonProject\\internet_service_churn.csv'\n",
    "data = pd.read_csv(path)\n",
    "data.head()"
   ]
  },
  {
   "cell_type": "code",
   "execution_count": 5,
   "id": "fdb72571-f963-47fa-8fe8-f82c2fb502dd",
   "metadata": {},
   "outputs": [
    {
     "name": "stdout",
     "output_type": "stream",
     "text": [
      "<class 'pandas.core.frame.DataFrame'>\n",
      "Index: 71893 entries, 0 to 72273\n",
      "Data columns (total 10 columns):\n",
      " #   Column                       Non-Null Count  Dtype  \n",
      "---  ------                       --------------  -----  \n",
      " 0   is_tv_subscriber             71893 non-null  int64  \n",
      " 1   is_movie_package_subscriber  71893 non-null  int64  \n",
      " 2   subscription_age             71893 non-null  float64\n",
      " 3   bill_avg                     71893 non-null  int64  \n",
      " 4   reamining_contract           71893 non-null  float64\n",
      " 5   service_failure_count        71893 non-null  int64  \n",
      " 6   download_avg                 71893 non-null  float64\n",
      " 7   upload_avg                   71893 non-null  float64\n",
      " 8   download_over_limit          71893 non-null  int64  \n",
      " 9   churn                        71893 non-null  int64  \n",
      "dtypes: float64(4), int64(6)\n",
      "memory usage: 6.0 MB\n"
     ]
    },
    {
     "data": {
      "text/plain": [
       "(is_tv_subscriber               0\n",
       " is_movie_package_subscriber    0\n",
       " subscription_age               0\n",
       " bill_avg                       0\n",
       " reamining_contract             0\n",
       " service_failure_count          0\n",
       " download_avg                   0\n",
       " upload_avg                     0\n",
       " download_over_limit            0\n",
       " churn                          0\n",
       " dtype: int64,\n",
       " None)"
      ]
     },
     "execution_count": 5,
     "metadata": {},
     "output_type": "execute_result"
    }
   ],
   "source": [
    "# Згідно рекомендацій попередьної частини зробим потрібні перетворення по  очищенню данних датасета\n",
    "data = data.fillna({'reamining_contract':data['reamining_contract'].min()}).dropna()\n",
    "data = data.iloc[:, 1:]\n",
    "data.isnull().sum(), data.info()\n"
   ]
  },
  {
   "cell_type": "code",
   "execution_count": 6,
   "id": "12bc5851-087d-432c-9065-7ed1577d4dc0",
   "metadata": {},
   "outputs": [
    {
     "data": {
      "text/plain": [
       "((57514, 9), (14379, 9), (57514,), (14379,))"
      ]
     },
     "execution_count": 6,
     "metadata": {},
     "output_type": "execute_result"
    }
   ],
   "source": [
    "# Розділимо датасет, відберемо ознаки і таргет-колонку\n",
    "X = data.iloc[:, :-1]\n",
    "y = data.churn\n",
    "\n",
    "# зробимо тренувальну і тестову вибірки даних, подивмось на їх розмірності для контролю.\n",
    "X_train, X_test, y_train, y_test = train_test_split(X, y, test_size=0.2, random_state=42)\n",
    "X_train.shape, X_test.shape, y_train.shape, y_test.shape"
   ]
  },
  {
   "cell_type": "code",
   "execution_count": 7,
   "id": "b54a0cd0-e4be-4865-a859-f49e68378ae6",
   "metadata": {},
   "outputs": [],
   "source": [
    "# One-hot кодування таргету, можливо можно то і не робить використавши 1 нейрон для бинарної класифікації, але зробим загальний випадок\n",
    "y_train = keras.utils.to_categorical(y_train, num_classes=2)\n",
    "y_test = keras.utils.to_categorical(y_test, num_classes=2)"
   ]
  },
  {
   "cell_type": "code",
   "execution_count": 8,
   "id": "633669d9-338b-4ea3-bea9-e6350616a90d",
   "metadata": {},
   "outputs": [
    {
     "data": {
      "text/plain": [
       "((57514, 9), (57514, 2))"
      ]
     },
     "execution_count": 8,
     "metadata": {},
     "output_type": "execute_result"
    }
   ],
   "source": [
    "X_train.shape, y_train.shape"
   ]
  },
  {
   "cell_type": "code",
   "execution_count": 9,
   "id": "95c7342c-558a-42e4-b4e7-b58fcc9ef1d5",
   "metadata": {},
   "outputs": [
    {
     "name": "stderr",
     "output_type": "stream",
     "text": [
      "C:\\Users\\asgar\\AppData\\Local\\Temp\\ipykernel_20836\\941994678.py:12: UserWarning: Do not pass an `input_shape`/`input_dim` argument to a layer. When using Sequential models, prefer using an `Input(shape)` object as the first layer in the model instead.\n",
      "  std_layer = Standardization(input_shape=[9, ])\n"
     ]
    }
   ],
   "source": [
    "\n",
    "# Для застосування нашої моделі внесемо до неї шар попередної нормалізації ознак розрахований на нашому датасеті\n",
    "\n",
    "\n",
    "class Standardization(keras.layers.Layer):\n",
    "    def adapt(self, data_sample):\n",
    "        self.means_ = np.mean(data_sample, axis=0, keepdims=True)\n",
    "        self.stds_ = np.std(data_sample, axis=0, keepdims=True)\n",
    "    def call(self, inputs):\n",
    "        return (inputs - self.means_) / (self.stds_ + keras.backend.epsilon())\n",
    "        \n",
    "\n",
    "std_layer = Standardization(input_shape=[9, ])\n",
    "std_layer.adapt(np.array(X))"
   ]
  },
  {
   "cell_type": "code",
   "execution_count": 10,
   "id": "6dd8f09d-3df9-4d30-b4df-f4b4399e84c6",
   "metadata": {},
   "outputs": [
    {
     "data": {
      "text/plain": [
       "(array([[ 0.8152254 ,  0.3340659 ,  2.45548593, 19.01684448,  0.49761242,\n",
       "          0.27567357, 43.6899114 ,  4.19207572,  0.20871295]]),\n",
       " array([[ 0.3881146 ,  0.47166288,  2.02684238, 13.18844911,  0.66575045,\n",
       "          0.81852776, 63.40552204,  9.81882807,  0.99964011]]))"
      ]
     },
     "execution_count": 10,
     "metadata": {},
     "output_type": "execute_result"
    }
   ],
   "source": [
    "# статистичні констатнти для стандартизації вхідних даних\n",
    "std_layer.means_, std_layer.stds_\n"
   ]
  },
  {
   "cell_type": "code",
   "execution_count": 11,
   "id": "7f634fe5-589d-4742-88ae-76d36668cdea",
   "metadata": {},
   "outputs": [
    {
     "name": "stderr",
     "output_type": "stream",
     "text": [
      "C:\\Users\\asgar\\anaconda3\\Lib\\site-packages\\keras\\src\\layers\\reshaping\\flatten.py:37: UserWarning: Do not pass an `input_shape`/`input_dim` argument to a layer. When using Sequential models, prefer using an `Input(shape)` object as the first layer in the model instead.\n",
      "  super().__init__(**kwargs)\n"
     ]
    }
   ],
   "source": [
    "# модель без шару сдандартизації\n",
    "model_NN1 = keras.Sequential()\n",
    "model_NN1.add(keras.layers.Flatten(input_shape=(9, )))\n",
    "model_NN1.add(keras.layers.Dense(128, activation='tanh'))\n",
    "model_NN1.add(keras.layers.Dense(256, activation='tanh'))\n",
    "model_NN1.add(keras.layers.Dense(2, activation='sigmoid'))\n",
    "                              \n",
    "model_NN1.compile(optimizer='adam',\n",
    "              loss='binary_crossentropy',\n",
    "              metrics=['accuracy'])"
   ]
  },
  {
   "cell_type": "code",
   "execution_count": 12,
   "id": "95134706-9c27-43e3-a10e-5bcec820058e",
   "metadata": {},
   "outputs": [
    {
     "name": "stdout",
     "output_type": "stream",
     "text": [
      "Epoch 1/25\n",
      "\u001b[1m1438/1438\u001b[0m \u001b[32m━━━━━━━━━━━━━━━━━━━━\u001b[0m\u001b[37m\u001b[0m \u001b[1m5s\u001b[0m 2ms/step - accuracy: 0.8162 - loss: 0.4088 - val_accuracy: 0.9033 - val_loss: 0.2795\n",
      "Epoch 2/25\n",
      "\u001b[1m1438/1438\u001b[0m \u001b[32m━━━━━━━━━━━━━━━━━━━━\u001b[0m\u001b[37m\u001b[0m \u001b[1m3s\u001b[0m 2ms/step - accuracy: 0.9010 - loss: 0.2738 - val_accuracy: 0.9084 - val_loss: 0.2608\n",
      "Epoch 3/25\n",
      "\u001b[1m1438/1438\u001b[0m \u001b[32m━━━━━━━━━━━━━━━━━━━━\u001b[0m\u001b[37m\u001b[0m \u001b[1m3s\u001b[0m 2ms/step - accuracy: 0.9078 - loss: 0.2610 - val_accuracy: 0.9179 - val_loss: 0.2457\n",
      "Epoch 4/25\n",
      "\u001b[1m1438/1438\u001b[0m \u001b[32m━━━━━━━━━━━━━━━━━━━━\u001b[0m\u001b[37m\u001b[0m \u001b[1m3s\u001b[0m 2ms/step - accuracy: 0.9192 - loss: 0.2456 - val_accuracy: 0.9203 - val_loss: 0.2417\n",
      "Epoch 5/25\n",
      "\u001b[1m1438/1438\u001b[0m \u001b[32m━━━━━━━━━━━━━━━━━━━━\u001b[0m\u001b[37m\u001b[0m \u001b[1m3s\u001b[0m 2ms/step - accuracy: 0.9213 - loss: 0.2406 - val_accuracy: 0.9189 - val_loss: 0.2420\n",
      "Epoch 6/25\n",
      "\u001b[1m1438/1438\u001b[0m \u001b[32m━━━━━━━━━━━━━━━━━━━━\u001b[0m\u001b[37m\u001b[0m \u001b[1m3s\u001b[0m 2ms/step - accuracy: 0.9240 - loss: 0.2344 - val_accuracy: 0.9233 - val_loss: 0.2359\n",
      "Epoch 7/25\n",
      "\u001b[1m1438/1438\u001b[0m \u001b[32m━━━━━━━━━━━━━━━━━━━━\u001b[0m\u001b[37m\u001b[0m \u001b[1m3s\u001b[0m 2ms/step - accuracy: 0.9265 - loss: 0.2306 - val_accuracy: 0.9235 - val_loss: 0.2367\n",
      "Epoch 8/25\n",
      "\u001b[1m1438/1438\u001b[0m \u001b[32m━━━━━━━━━━━━━━━━━━━━\u001b[0m\u001b[37m\u001b[0m \u001b[1m3s\u001b[0m 2ms/step - accuracy: 0.9280 - loss: 0.2261 - val_accuracy: 0.9267 - val_loss: 0.2329\n",
      "Epoch 9/25\n",
      "\u001b[1m1438/1438\u001b[0m \u001b[32m━━━━━━━━━━━━━━━━━━━━\u001b[0m\u001b[37m\u001b[0m \u001b[1m3s\u001b[0m 2ms/step - accuracy: 0.9290 - loss: 0.2268 - val_accuracy: 0.9248 - val_loss: 0.2328\n",
      "Epoch 10/25\n",
      "\u001b[1m1438/1438\u001b[0m \u001b[32m━━━━━━━━━━━━━━━━━━━━\u001b[0m\u001b[37m\u001b[0m \u001b[1m3s\u001b[0m 2ms/step - accuracy: 0.9304 - loss: 0.2223 - val_accuracy: 0.9275 - val_loss: 0.2250\n",
      "Epoch 11/25\n",
      "\u001b[1m1438/1438\u001b[0m \u001b[32m━━━━━━━━━━━━━━━━━━━━\u001b[0m\u001b[37m\u001b[0m \u001b[1m3s\u001b[0m 2ms/step - accuracy: 0.9309 - loss: 0.2198 - val_accuracy: 0.9268 - val_loss: 0.2269\n",
      "Epoch 12/25\n",
      "\u001b[1m1438/1438\u001b[0m \u001b[32m━━━━━━━━━━━━━━━━━━━━\u001b[0m\u001b[37m\u001b[0m \u001b[1m3s\u001b[0m 2ms/step - accuracy: 0.9297 - loss: 0.2222 - val_accuracy: 0.9279 - val_loss: 0.2232\n",
      "Epoch 13/25\n",
      "\u001b[1m1438/1438\u001b[0m \u001b[32m━━━━━━━━━━━━━━━━━━━━\u001b[0m\u001b[37m\u001b[0m \u001b[1m3s\u001b[0m 2ms/step - accuracy: 0.9312 - loss: 0.2186 - val_accuracy: 0.9287 - val_loss: 0.2244\n",
      "Epoch 14/25\n",
      "\u001b[1m1438/1438\u001b[0m \u001b[32m━━━━━━━━━━━━━━━━━━━━\u001b[0m\u001b[37m\u001b[0m \u001b[1m3s\u001b[0m 2ms/step - accuracy: 0.9305 - loss: 0.2213 - val_accuracy: 0.9288 - val_loss: 0.2250\n",
      "Epoch 15/25\n",
      "\u001b[1m1438/1438\u001b[0m \u001b[32m━━━━━━━━━━━━━━━━━━━━\u001b[0m\u001b[37m\u001b[0m \u001b[1m3s\u001b[0m 2ms/step - accuracy: 0.9289 - loss: 0.2243 - val_accuracy: 0.9285 - val_loss: 0.2239\n",
      "Epoch 16/25\n",
      "\u001b[1m1438/1438\u001b[0m \u001b[32m━━━━━━━━━━━━━━━━━━━━\u001b[0m\u001b[37m\u001b[0m \u001b[1m5s\u001b[0m 2ms/step - accuracy: 0.9333 - loss: 0.2118 - val_accuracy: 0.9309 - val_loss: 0.2182\n",
      "Epoch 17/25\n",
      "\u001b[1m1438/1438\u001b[0m \u001b[32m━━━━━━━━━━━━━━━━━━━━\u001b[0m\u001b[37m\u001b[0m \u001b[1m5s\u001b[0m 2ms/step - accuracy: 0.9323 - loss: 0.2161 - val_accuracy: 0.9303 - val_loss: 0.2187\n",
      "Epoch 18/25\n",
      "\u001b[1m1438/1438\u001b[0m \u001b[32m━━━━━━━━━━━━━━━━━━━━\u001b[0m\u001b[37m\u001b[0m \u001b[1m3s\u001b[0m 2ms/step - accuracy: 0.9309 - loss: 0.2167 - val_accuracy: 0.9325 - val_loss: 0.2154\n",
      "Epoch 19/25\n",
      "\u001b[1m1438/1438\u001b[0m \u001b[32m━━━━━━━━━━━━━━━━━━━━\u001b[0m\u001b[37m\u001b[0m \u001b[1m3s\u001b[0m 2ms/step - accuracy: 0.9308 - loss: 0.2197 - val_accuracy: 0.9313 - val_loss: 0.2230\n",
      "Epoch 20/25\n",
      "\u001b[1m1438/1438\u001b[0m \u001b[32m━━━━━━━━━━━━━━━━━━━━\u001b[0m\u001b[37m\u001b[0m \u001b[1m3s\u001b[0m 2ms/step - accuracy: 0.9334 - loss: 0.2148 - val_accuracy: 0.9268 - val_loss: 0.2268\n",
      "Epoch 21/25\n",
      "\u001b[1m1438/1438\u001b[0m \u001b[32m━━━━━━━━━━━━━━━━━━━━\u001b[0m\u001b[37m\u001b[0m \u001b[1m3s\u001b[0m 2ms/step - accuracy: 0.9335 - loss: 0.2137 - val_accuracy: 0.9300 - val_loss: 0.2182\n",
      "Epoch 22/25\n",
      "\u001b[1m1438/1438\u001b[0m \u001b[32m━━━━━━━━━━━━━━━━━━━━\u001b[0m\u001b[37m\u001b[0m \u001b[1m3s\u001b[0m 2ms/step - accuracy: 0.9323 - loss: 0.2148 - val_accuracy: 0.9279 - val_loss: 0.2253\n",
      "Epoch 23/25\n",
      "\u001b[1m1438/1438\u001b[0m \u001b[32m━━━━━━━━━━━━━━━━━━━━\u001b[0m\u001b[37m\u001b[0m \u001b[1m3s\u001b[0m 2ms/step - accuracy: 0.9339 - loss: 0.2094 - val_accuracy: 0.9328 - val_loss: 0.2133\n",
      "Epoch 24/25\n",
      "\u001b[1m1438/1438\u001b[0m \u001b[32m━━━━━━━━━━━━━━━━━━━━\u001b[0m\u001b[37m\u001b[0m \u001b[1m5s\u001b[0m 2ms/step - accuracy: 0.9356 - loss: 0.2067 - val_accuracy: 0.9312 - val_loss: 0.2149\n",
      "Epoch 25/25\n",
      "\u001b[1m1438/1438\u001b[0m \u001b[32m━━━━━━━━━━━━━━━━━━━━\u001b[0m\u001b[37m\u001b[0m \u001b[1m3s\u001b[0m 2ms/step - accuracy: 0.9355 - loss: 0.2079 - val_accuracy: 0.9336 - val_loss: 0.2138\n"
     ]
    }
   ],
   "source": [
    "# Тренування моделі \n",
    "history_NN1 = model_NN1.fit(\n",
    "    X_train, y_train, epochs=25,\n",
    "    validation_split=0.2,)\n",
    "   "
   ]
  },
  {
   "cell_type": "code",
   "execution_count": 41,
   "id": "45fc5904-a776-43c4-84e0-a8d5071c2d0f",
   "metadata": {},
   "outputs": [
    {
     "data": {
      "text/plain": [
       "['C:\\\\PythonProject\\\\values.pkl']"
      ]
     },
     "execution_count": 41,
     "metadata": {},
     "output_type": "execute_result"
    }
   ],
   "source": [
    "# збережемо в окремому обьеті константи для стандартизації вхвдних даних\n",
    "\n",
    "means = std_layer.means_\n",
    "stds = std_layer.stds_\n",
    "eps = keras.backend.epsilon()\n",
    "values = (means, stds, eps)\n",
    "#(inputs - means) / (stds + eps)\n",
    "joblib.dump(values, r'C:\\PythonProject\\values.pkl')"
   ]
  },
  {
   "cell_type": "code",
   "execution_count": 17,
   "id": "a68437c8-2886-423d-84fa-36c2539bac1e",
   "metadata": {},
   "outputs": [
    {
     "data": {
      "text/plain": [
       "0.934557318687439"
      ]
     },
     "execution_count": 17,
     "metadata": {},
     "output_type": "execute_result"
    }
   ],
   "source": [
    "loss, accuracy = model_NN1.evaluate(X_test, y_test, verbose=0)\n",
    "accuracy"
   ]
  },
  {
   "cell_type": "code",
   "execution_count": 20,
   "id": "5385784b-c4f3-4418-8f60-d774e3bad17e",
   "metadata": {},
   "outputs": [
    {
     "data": {
      "text/plain": [
       "['C:\\\\PythonProject\\\\nn_accuracy.pkl']"
      ]
     },
     "execution_count": 20,
     "metadata": {},
     "output_type": "execute_result"
    }
   ],
   "source": [
    "# збережемо в окремому обьеті точність нашої моделі\n",
    "\n",
    "joblib.dump(accuracy, r'C:\\PythonProject\\nn_accuracy.pkl')"
   ]
  },
  {
   "cell_type": "code",
   "execution_count": 21,
   "id": "4320528d-bca0-4bb4-928a-2a46825813ac",
   "metadata": {},
   "outputs": [],
   "source": [
    "# збережемо просту модель\n",
    "model_NN1.save(r'C:\\PythonProject\\model_NN1.keras')"
   ]
  }
 ],
 "metadata": {
  "kernelspec": {
   "display_name": "Python 3 (ipykernel)",
   "language": "python",
   "name": "python3"
  },
  "language_info": {
   "codemirror_mode": {
    "name": "ipython",
    "version": 3
   },
   "file_extension": ".py",
   "mimetype": "text/x-python",
   "name": "python",
   "nbconvert_exporter": "python",
   "pygments_lexer": "ipython3",
   "version": "3.11.7"
  }
 },
 "nbformat": 4,
 "nbformat_minor": 5
}
