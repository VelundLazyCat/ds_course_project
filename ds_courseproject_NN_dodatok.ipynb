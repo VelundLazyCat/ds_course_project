{
 "cells": [
  {
   "cell_type": "code",
   "execution_count": 8,
   "id": "b2a4c72b-cfc8-4aa8-985a-0ee87fbbc6f5",
   "metadata": {},
   "outputs": [],
   "source": [
    "import numpy as np\n",
    "import pandas as pd\n",
    "import matplotlib.pyplot as plt\n",
    "import seaborn as sns\n",
    "%matplotlib inline\n",
    "from sklearn.model_selection import train_test_split\n",
    "\n",
    "import tensorflow as tf\n",
    "from tensorflow import keras\n",
    "from keras.utils import pad_sequences\n",
    "from keras.models import Sequential\n",
    "from keras.layers import Embedding, SimpleRNN, Dense, GRU, Flatten\n",
    "from sklearn.preprocessing import StandardScaler\n",
    "from keras import ops\n",
    "import keras"
   ]
  },
  {
   "cell_type": "code",
   "execution_count": 75,
   "id": "c9ad07cf-aee0-4a4d-b4d0-e7f9c6ac6e7f",
   "metadata": {
    "scrolled": true
   },
   "outputs": [
    {
     "data": {
      "text/html": [
       "<div>\n",
       "<style scoped>\n",
       "    .dataframe tbody tr th:only-of-type {\n",
       "        vertical-align: middle;\n",
       "    }\n",
       "\n",
       "    .dataframe tbody tr th {\n",
       "        vertical-align: top;\n",
       "    }\n",
       "\n",
       "    .dataframe thead th {\n",
       "        text-align: right;\n",
       "    }\n",
       "</style>\n",
       "<table border=\"1\" class=\"dataframe\">\n",
       "  <thead>\n",
       "    <tr style=\"text-align: right;\">\n",
       "      <th></th>\n",
       "      <th>id</th>\n",
       "      <th>is_tv_subscriber</th>\n",
       "      <th>is_movie_package_subscriber</th>\n",
       "      <th>subscription_age</th>\n",
       "      <th>bill_avg</th>\n",
       "      <th>reamining_contract</th>\n",
       "      <th>service_failure_count</th>\n",
       "      <th>download_avg</th>\n",
       "      <th>upload_avg</th>\n",
       "      <th>download_over_limit</th>\n",
       "      <th>churn</th>\n",
       "    </tr>\n",
       "  </thead>\n",
       "  <tbody>\n",
       "    <tr>\n",
       "      <th>0</th>\n",
       "      <td>15</td>\n",
       "      <td>1</td>\n",
       "      <td>0</td>\n",
       "      <td>11.95</td>\n",
       "      <td>25</td>\n",
       "      <td>0.14</td>\n",
       "      <td>0</td>\n",
       "      <td>8.4</td>\n",
       "      <td>2.3</td>\n",
       "      <td>0</td>\n",
       "      <td>0</td>\n",
       "    </tr>\n",
       "    <tr>\n",
       "      <th>1</th>\n",
       "      <td>18</td>\n",
       "      <td>0</td>\n",
       "      <td>0</td>\n",
       "      <td>8.22</td>\n",
       "      <td>0</td>\n",
       "      <td>NaN</td>\n",
       "      <td>0</td>\n",
       "      <td>0.0</td>\n",
       "      <td>0.0</td>\n",
       "      <td>0</td>\n",
       "      <td>1</td>\n",
       "    </tr>\n",
       "    <tr>\n",
       "      <th>2</th>\n",
       "      <td>23</td>\n",
       "      <td>1</td>\n",
       "      <td>0</td>\n",
       "      <td>8.91</td>\n",
       "      <td>16</td>\n",
       "      <td>0.00</td>\n",
       "      <td>0</td>\n",
       "      <td>13.7</td>\n",
       "      <td>0.9</td>\n",
       "      <td>0</td>\n",
       "      <td>1</td>\n",
       "    </tr>\n",
       "    <tr>\n",
       "      <th>3</th>\n",
       "      <td>27</td>\n",
       "      <td>0</td>\n",
       "      <td>0</td>\n",
       "      <td>6.87</td>\n",
       "      <td>21</td>\n",
       "      <td>NaN</td>\n",
       "      <td>1</td>\n",
       "      <td>0.0</td>\n",
       "      <td>0.0</td>\n",
       "      <td>0</td>\n",
       "      <td>1</td>\n",
       "    </tr>\n",
       "    <tr>\n",
       "      <th>4</th>\n",
       "      <td>34</td>\n",
       "      <td>0</td>\n",
       "      <td>0</td>\n",
       "      <td>6.39</td>\n",
       "      <td>0</td>\n",
       "      <td>NaN</td>\n",
       "      <td>0</td>\n",
       "      <td>0.0</td>\n",
       "      <td>0.0</td>\n",
       "      <td>0</td>\n",
       "      <td>1</td>\n",
       "    </tr>\n",
       "  </tbody>\n",
       "</table>\n",
       "</div>"
      ],
      "text/plain": [
       "   id  is_tv_subscriber  is_movie_package_subscriber  subscription_age  \\\n",
       "0  15                 1                            0             11.95   \n",
       "1  18                 0                            0              8.22   \n",
       "2  23                 1                            0              8.91   \n",
       "3  27                 0                            0              6.87   \n",
       "4  34                 0                            0              6.39   \n",
       "\n",
       "   bill_avg  reamining_contract  service_failure_count  download_avg  \\\n",
       "0        25                0.14                      0           8.4   \n",
       "1         0                 NaN                      0           0.0   \n",
       "2        16                0.00                      0          13.7   \n",
       "3        21                 NaN                      1           0.0   \n",
       "4         0                 NaN                      0           0.0   \n",
       "\n",
       "   upload_avg  download_over_limit  churn  \n",
       "0         2.3                    0      0  \n",
       "1         0.0                    0      1  \n",
       "2         0.9                    0      1  \n",
       "3         0.0                    0      1  \n",
       "4         0.0                    0      1  "
      ]
     },
     "execution_count": 75,
     "metadata": {},
     "output_type": "execute_result"
    }
   ],
   "source": [
    "# Завантажимо файл і подивимось на вміст\n",
    "path = r'C:\\PythonProject\\PythonCoreCourse\\PythonDataSience\\project\\internet_service_churn.csv'\n",
    "data = pd.read_csv(path)\n",
    "data.head()"
   ]
  },
  {
   "cell_type": "code",
   "execution_count": 76,
   "id": "fdb72571-f963-47fa-8fe8-f82c2fb502dd",
   "metadata": {},
   "outputs": [
    {
     "name": "stdout",
     "output_type": "stream",
     "text": [
      "<class 'pandas.core.frame.DataFrame'>\n",
      "Index: 71893 entries, 0 to 72273\n",
      "Data columns (total 10 columns):\n",
      " #   Column                       Non-Null Count  Dtype  \n",
      "---  ------                       --------------  -----  \n",
      " 0   is_tv_subscriber             71893 non-null  int64  \n",
      " 1   is_movie_package_subscriber  71893 non-null  int64  \n",
      " 2   subscription_age             71893 non-null  float64\n",
      " 3   bill_avg                     71893 non-null  int64  \n",
      " 4   reamining_contract           71893 non-null  float64\n",
      " 5   service_failure_count        71893 non-null  int64  \n",
      " 6   download_avg                 71893 non-null  float64\n",
      " 7   upload_avg                   71893 non-null  float64\n",
      " 8   download_over_limit          71893 non-null  int64  \n",
      " 9   churn                        71893 non-null  int64  \n",
      "dtypes: float64(4), int64(6)\n",
      "memory usage: 6.0 MB\n"
     ]
    },
    {
     "data": {
      "text/plain": [
       "(is_tv_subscriber               0\n",
       " is_movie_package_subscriber    0\n",
       " subscription_age               0\n",
       " bill_avg                       0\n",
       " reamining_contract             0\n",
       " service_failure_count          0\n",
       " download_avg                   0\n",
       " upload_avg                     0\n",
       " download_over_limit            0\n",
       " churn                          0\n",
       " dtype: int64,\n",
       " None)"
      ]
     },
     "execution_count": 76,
     "metadata": {},
     "output_type": "execute_result"
    }
   ],
   "source": [
    "# Згідно рекомендацій попередьної частини зробим потрібні перетворення по  очищенню данних датасета\n",
    "data = data.fillna({'reamining_contract':data['reamining_contract'].min()}).dropna()\n",
    "data = data.iloc[:, 1:]\n",
    "data.isnull().sum(), data.info()\n"
   ]
  },
  {
   "cell_type": "code",
   "execution_count": 77,
   "id": "12bc5851-087d-432c-9065-7ed1577d4dc0",
   "metadata": {},
   "outputs": [
    {
     "data": {
      "text/plain": [
       "((57514, 9), (14379, 9), (57514,), (14379,))"
      ]
     },
     "execution_count": 77,
     "metadata": {},
     "output_type": "execute_result"
    }
   ],
   "source": [
    "# Розділимо датасет, відберемо ознаки і таргет-колонку\n",
    "X = data.iloc[:, :-1]\n",
    "y = data.churn\n",
    "\n",
    "# зробимо тренувальну і тестову вибірки даних, подивмось на їх розмірності для контролю.\n",
    "X_train, X_test, y_train, y_test = train_test_split(X, y, test_size=0.2, random_state=42)\n",
    "X_train.shape, X_test.shape, y_train.shape, y_test.shape"
   ]
  },
  {
   "cell_type": "code",
   "execution_count": 79,
   "id": "b54a0cd0-e4be-4865-a859-f49e68378ae6",
   "metadata": {},
   "outputs": [],
   "source": [
    "# One-hot кодування таргету, можливо можно то і не робить використавши 1 нейрон для бинарної класифікації, але зробим загальний випадок\n",
    "y_train = keras.utils.to_categorical(y_train, num_classes=2)\n",
    "y_test = keras.utils.to_categorical(y_test, num_classes=2)"
   ]
  },
  {
   "cell_type": "code",
   "execution_count": 12,
   "id": "633669d9-338b-4ea3-bea9-e6350616a90d",
   "metadata": {},
   "outputs": [
    {
     "data": {
      "text/plain": [
       "((57514, 9), (57514, 2))"
      ]
     },
     "execution_count": 12,
     "metadata": {},
     "output_type": "execute_result"
    }
   ],
   "source": [
    "X_train.shape, y_train.shape"
   ]
  },
  {
   "cell_type": "code",
   "execution_count": 23,
   "id": "95c7342c-558a-42e4-b4e7-b58fcc9ef1d5",
   "metadata": {},
   "outputs": [
    {
     "name": "stderr",
     "output_type": "stream",
     "text": [
      "C:\\Users\\Admin\\AppData\\Local\\Temp\\ipykernel_956\\179999217.py:26: UserWarning: Do not pass an `input_shape`/`input_dim` argument to a layer. When using Sequential models, prefer using an `Input(shape)` object as the first layer in the model instead.\n",
      "  std_layer = Standardization(input_shape=[9, ])\n"
     ]
    }
   ],
   "source": [
    "\n",
    "# Для застосування нашої моделі внесемо до неї шар попередної нормалізації ознак розрахований на нашому датасеті\n",
    "\n",
    "\n",
    "class Standardization(keras.layers.Layer):\n",
    "    def adapt(self, data_sample):\n",
    "        self.means_ = np.mean(data_sample, axis=0, keepdims=True)\n",
    "        self.stds_ = np.std(data_sample, axis=0, keepdims=True)\n",
    "    def call(self, inputs):\n",
    "        return (inputs - self.means_) / (self.stds_ + keras.backend.epsilon())\n",
    "        \n",
    "\n",
    "std_layer = Standardization(input_shape=[9, ])\n",
    "std_layer.adapt(np.array(X))"
   ]
  },
  {
   "cell_type": "code",
   "execution_count": 10,
   "id": "6dd8f09d-3df9-4d30-b4df-f4b4399e84c6",
   "metadata": {},
   "outputs": [
    {
     "data": {
      "text/plain": [
       "(array([[ 0.8152254 ,  0.3340659 ,  2.45548593, 19.01684448,  0.49761242,\n",
       "          0.27567357, 43.6899114 ,  4.19207572,  0.20871295]]),\n",
       " array([[ 0.3881146 ,  0.47166288,  2.02684238, 13.18844911,  0.66575045,\n",
       "          0.81852776, 63.40552204,  9.81882807,  0.99964011]]))"
      ]
     },
     "execution_count": 10,
     "metadata": {},
     "output_type": "execute_result"
    }
   ],
   "source": [
    "# статистичні констатнти для стандартизації вхідних даних\n",
    "std_layer.means_, std_layer.stds_\n"
   ]
  },
  {
   "cell_type": "code",
   "execution_count": 81,
   "id": "7f634fe5-589d-4742-88ae-76d36668cdea",
   "metadata": {},
   "outputs": [],
   "source": [
    "# модель без шару сдандартизації\n",
    "model_NN1 = keras.Sequential()\n",
    "model_NN1.add(keras.layers.Flatten(input_shape=(9, )))\n",
    "model_NN1.add(keras.layers.Dense(128, activation='tanh'))\n",
    "model_NN1.add(keras.layers.Dense(256, activation='tanh'))\n",
    "model_NN1.add(keras.layers.Dense(2, activation='sigmoid'))\n",
    "                              \n",
    "model_NN1.compile(optimizer='adam',\n",
    "              loss='binary_crossentropy',\n",
    "              metrics=['accuracy'])"
   ]
  },
  {
   "cell_type": "code",
   "execution_count": 83,
   "id": "95134706-9c27-43e3-a10e-5bcec820058e",
   "metadata": {},
   "outputs": [
    {
     "name": "stdout",
     "output_type": "stream",
     "text": [
      "Epoch 1/25\n",
      "\u001b[1m1438/1438\u001b[0m \u001b[32m━━━━━━━━━━━━━━━━━━━━\u001b[0m\u001b[37m\u001b[0m \u001b[1m6s\u001b[0m 3ms/step - accuracy: 0.8722 - loss: 0.3420 - val_accuracy: 0.9039 - val_loss: 0.2748\n",
      "Epoch 2/25\n",
      "\u001b[1m1438/1438\u001b[0m \u001b[32m━━━━━━━━━━━━━━━━━━━━\u001b[0m\u001b[37m\u001b[0m \u001b[1m5s\u001b[0m 3ms/step - accuracy: 0.9126 - loss: 0.2613 - val_accuracy: 0.9156 - val_loss: 0.2495\n",
      "Epoch 3/25\n",
      "\u001b[1m1438/1438\u001b[0m \u001b[32m━━━━━━━━━━━━━━━━━━━━\u001b[0m\u001b[37m\u001b[0m \u001b[1m4s\u001b[0m 3ms/step - accuracy: 0.9204 - loss: 0.2433 - val_accuracy: 0.9166 - val_loss: 0.2432\n",
      "Epoch 4/25\n",
      "\u001b[1m1438/1438\u001b[0m \u001b[32m━━━━━━━━━━━━━━━━━━━━\u001b[0m\u001b[37m\u001b[0m \u001b[1m4s\u001b[0m 3ms/step - accuracy: 0.9233 - loss: 0.2356 - val_accuracy: 0.9226 - val_loss: 0.2371\n",
      "Epoch 5/25\n",
      "\u001b[1m1438/1438\u001b[0m \u001b[32m━━━━━━━━━━━━━━━━━━━━\u001b[0m\u001b[37m\u001b[0m \u001b[1m4s\u001b[0m 3ms/step - accuracy: 0.9248 - loss: 0.2301 - val_accuracy: 0.9225 - val_loss: 0.2334\n",
      "Epoch 6/25\n",
      "\u001b[1m1438/1438\u001b[0m \u001b[32m━━━━━━━━━━━━━━━━━━━━\u001b[0m\u001b[37m\u001b[0m \u001b[1m5s\u001b[0m 3ms/step - accuracy: 0.9241 - loss: 0.2300 - val_accuracy: 0.9225 - val_loss: 0.2388\n",
      "Epoch 7/25\n",
      "\u001b[1m1438/1438\u001b[0m \u001b[32m━━━━━━━━━━━━━━━━━━━━\u001b[0m\u001b[37m\u001b[0m \u001b[1m5s\u001b[0m 3ms/step - accuracy: 0.9251 - loss: 0.2276 - val_accuracy: 0.9226 - val_loss: 0.2390\n",
      "Epoch 8/25\n",
      "\u001b[1m1438/1438\u001b[0m \u001b[32m━━━━━━━━━━━━━━━━━━━━\u001b[0m\u001b[37m\u001b[0m \u001b[1m5s\u001b[0m 3ms/step - accuracy: 0.9277 - loss: 0.2237 - val_accuracy: 0.9262 - val_loss: 0.2305\n",
      "Epoch 9/25\n",
      "\u001b[1m1438/1438\u001b[0m \u001b[32m━━━━━━━━━━━━━━━━━━━━\u001b[0m\u001b[37m\u001b[0m \u001b[1m5s\u001b[0m 3ms/step - accuracy: 0.9261 - loss: 0.2235 - val_accuracy: 0.9253 - val_loss: 0.2280\n",
      "Epoch 10/25\n",
      "\u001b[1m1438/1438\u001b[0m \u001b[32m━━━━━━━━━━━━━━━━━━━━\u001b[0m\u001b[37m\u001b[0m \u001b[1m6s\u001b[0m 3ms/step - accuracy: 0.9280 - loss: 0.2173 - val_accuracy: 0.9261 - val_loss: 0.2284\n",
      "Epoch 11/25\n",
      "\u001b[1m1438/1438\u001b[0m \u001b[32m━━━━━━━━━━━━━━━━━━━━\u001b[0m\u001b[37m\u001b[0m \u001b[1m5s\u001b[0m 4ms/step - accuracy: 0.9290 - loss: 0.2176 - val_accuracy: 0.9263 - val_loss: 0.2231\n",
      "Epoch 12/25\n",
      "\u001b[1m1438/1438\u001b[0m \u001b[32m━━━━━━━━━━━━━━━━━━━━\u001b[0m\u001b[37m\u001b[0m \u001b[1m11s\u001b[0m 4ms/step - accuracy: 0.9304 - loss: 0.2140 - val_accuracy: 0.9260 - val_loss: 0.2230\n",
      "Epoch 13/25\n",
      "\u001b[1m1438/1438\u001b[0m \u001b[32m━━━━━━━━━━━━━━━━━━━━\u001b[0m\u001b[37m\u001b[0m \u001b[1m5s\u001b[0m 4ms/step - accuracy: 0.9302 - loss: 0.2118 - val_accuracy: 0.9261 - val_loss: 0.2228\n",
      "Epoch 14/25\n",
      "\u001b[1m1438/1438\u001b[0m \u001b[32m━━━━━━━━━━━━━━━━━━━━\u001b[0m\u001b[37m\u001b[0m \u001b[1m10s\u001b[0m 4ms/step - accuracy: 0.9318 - loss: 0.2104 - val_accuracy: 0.9277 - val_loss: 0.2216\n",
      "Epoch 15/25\n",
      "\u001b[1m1438/1438\u001b[0m \u001b[32m━━━━━━━━━━━━━━━━━━━━\u001b[0m\u001b[37m\u001b[0m \u001b[1m10s\u001b[0m 4ms/step - accuracy: 0.9307 - loss: 0.2121 - val_accuracy: 0.9291 - val_loss: 0.2168\n",
      "Epoch 16/25\n",
      "\u001b[1m1438/1438\u001b[0m \u001b[32m━━━━━━━━━━━━━━━━━━━━\u001b[0m\u001b[37m\u001b[0m \u001b[1m11s\u001b[0m 4ms/step - accuracy: 0.9327 - loss: 0.2069 - val_accuracy: 0.9265 - val_loss: 0.2191\n",
      "Epoch 17/25\n",
      "\u001b[1m1438/1438\u001b[0m \u001b[32m━━━━━━━━━━━━━━━━━━━━\u001b[0m\u001b[37m\u001b[0m \u001b[1m6s\u001b[0m 4ms/step - accuracy: 0.9333 - loss: 0.2048 - val_accuracy: 0.9288 - val_loss: 0.2160\n",
      "Epoch 18/25\n",
      "\u001b[1m1438/1438\u001b[0m \u001b[32m━━━━━━━━━━━━━━━━━━━━\u001b[0m\u001b[37m\u001b[0m \u001b[1m10s\u001b[0m 4ms/step - accuracy: 0.9322 - loss: 0.2058 - val_accuracy: 0.9267 - val_loss: 0.2236\n",
      "Epoch 19/25\n",
      "\u001b[1m1438/1438\u001b[0m \u001b[32m━━━━━━━━━━━━━━━━━━━━\u001b[0m\u001b[37m\u001b[0m \u001b[1m11s\u001b[0m 4ms/step - accuracy: 0.9309 - loss: 0.2070 - val_accuracy: 0.9291 - val_loss: 0.2191\n",
      "Epoch 20/25\n",
      "\u001b[1m1438/1438\u001b[0m \u001b[32m━━━━━━━━━━━━━━━━━━━━\u001b[0m\u001b[37m\u001b[0m \u001b[1m10s\u001b[0m 4ms/step - accuracy: 0.9342 - loss: 0.2007 - val_accuracy: 0.9298 - val_loss: 0.2145\n",
      "Epoch 21/25\n",
      "\u001b[1m1438/1438\u001b[0m \u001b[32m━━━━━━━━━━━━━━━━━━━━\u001b[0m\u001b[37m\u001b[0m \u001b[1m11s\u001b[0m 4ms/step - accuracy: 0.9328 - loss: 0.2048 - val_accuracy: 0.9290 - val_loss: 0.2162\n",
      "Epoch 22/25\n",
      "\u001b[1m1438/1438\u001b[0m \u001b[32m━━━━━━━━━━━━━━━━━━━━\u001b[0m\u001b[37m\u001b[0m \u001b[1m5s\u001b[0m 4ms/step - accuracy: 0.9325 - loss: 0.2046 - val_accuracy: 0.9303 - val_loss: 0.2152\n",
      "Epoch 23/25\n",
      "\u001b[1m1438/1438\u001b[0m \u001b[32m━━━━━━━━━━━━━━━━━━━━\u001b[0m\u001b[37m\u001b[0m \u001b[1m11s\u001b[0m 4ms/step - accuracy: 0.9353 - loss: 0.1979 - val_accuracy: 0.9285 - val_loss: 0.2146\n",
      "Epoch 24/25\n",
      "\u001b[1m1438/1438\u001b[0m \u001b[32m━━━━━━━━━━━━━━━━━━━━\u001b[0m\u001b[37m\u001b[0m \u001b[1m10s\u001b[0m 4ms/step - accuracy: 0.9338 - loss: 0.2015 - val_accuracy: 0.9302 - val_loss: 0.2115\n",
      "Epoch 25/25\n",
      "\u001b[1m1438/1438\u001b[0m \u001b[32m━━━━━━━━━━━━━━━━━━━━\u001b[0m\u001b[37m\u001b[0m \u001b[1m11s\u001b[0m 4ms/step - accuracy: 0.9357 - loss: 0.1952 - val_accuracy: 0.9311 - val_loss: 0.2162\n"
     ]
    }
   ],
   "source": [
    "# Тренування моделі \n",
    "history_NN1 = model_NN1.fit(\n",
    "    X_train, y_train, epochs=25,\n",
    "    validation_split=0.2,)\n",
    "   "
   ]
  },
  {
   "cell_type": "code",
   "execution_count": 41,
   "id": "45fc5904-a776-43c4-84e0-a8d5071c2d0f",
   "metadata": {},
   "outputs": [
    {
     "data": {
      "text/plain": [
       "['C:\\\\PythonProject\\\\values.pkl']"
      ]
     },
     "execution_count": 41,
     "metadata": {},
     "output_type": "execute_result"
    }
   ],
   "source": [
    "# збережемо в окремому обьеті константи для стандартизації вхвдних даних\n",
    "import joblib\n",
    "means = std_layer.means_\n",
    "stds = std_layer.stds_\n",
    "eps = keras.backend.epsilon()\n",
    "values = (means, stds, eps)\n",
    "#(inputs - means) / (stds + eps)\n",
    "joblib.dump(values, r'C:\\PythonProject\\values.pkl')"
   ]
  },
  {
   "cell_type": "code",
   "execution_count": 84,
   "id": "4320528d-bca0-4bb4-928a-2a46825813ac",
   "metadata": {},
   "outputs": [],
   "source": [
    "# збережемо просту модель\n",
    "model_NN1.save(r'C:\\PythonProject\\model_NN1.keras')"
   ]
  },
  {
   "cell_type": "code",
   "execution_count": 55,
   "id": "5b213741-f0e2-4bed-816a-2c656b50c81b",
   "metadata": {},
   "outputs": [
    {
     "data": {
      "text/plain": [
       "(array([ 1.  ,  0.  , 11.95, 25.  ,  0.14,  0.  ,  8.4 ,  2.3 ,  0.  ]), 0)"
      ]
     },
     "execution_count": 55,
     "metadata": {},
     "output_type": "execute_result"
    }
   ],
   "source": [
    "# далі йдуть нецікаві тести відповідності класифікатора\n",
    "np.array(X.iloc[0, :]), y[0]"
   ]
  },
  {
   "cell_type": "code",
   "execution_count": 56,
   "id": "a9329623-d495-45ca-81da-770c4be8faa0",
   "metadata": {},
   "outputs": [
    {
     "name": "stdout",
     "output_type": "stream",
     "text": [
      "\u001b[1m2247/2247\u001b[0m \u001b[32m━━━━━━━━━━━━━━━━━━━━\u001b[0m\u001b[37m\u001b[0m \u001b[1m4s\u001b[0m 2ms/step\n"
     ]
    }
   ],
   "source": [
    "histoty_aaa = model_NN1.predict(X)"
   ]
  },
  {
   "cell_type": "code",
   "execution_count": 60,
   "id": "cc5949d0-71fc-45f4-8a30-d91a5cfa3cde",
   "metadata": {},
   "outputs": [
    {
     "data": {
      "text/plain": [
       "array([[9.9039620e-01, 1.1777583e-02],\n",
       "       [7.3790306e-04, 9.9933016e-01],\n",
       "       [7.2477631e-02, 9.2341387e-01],\n",
       "       [4.2939270e-03, 9.9594468e-01],\n",
       "       [6.0910493e-04, 9.9941921e-01],\n",
       "       [9.2520076e-01, 8.4866785e-02]], dtype=float32)"
      ]
     },
     "execution_count": 60,
     "metadata": {},
     "output_type": "execute_result"
    }
   ],
   "source": [
    "histoty_aaa[:6]\n"
   ]
  },
  {
   "cell_type": "code",
   "execution_count": 62,
   "id": "b67c8f8d-7921-4636-8e08-f63c0afb6cfb",
   "metadata": {},
   "outputs": [
    {
     "data": {
      "text/html": [
       "<div>\n",
       "<style scoped>\n",
       "    .dataframe tbody tr th:only-of-type {\n",
       "        vertical-align: middle;\n",
       "    }\n",
       "\n",
       "    .dataframe tbody tr th {\n",
       "        vertical-align: top;\n",
       "    }\n",
       "\n",
       "    .dataframe thead th {\n",
       "        text-align: right;\n",
       "    }\n",
       "</style>\n",
       "<table border=\"1\" class=\"dataframe\">\n",
       "  <thead>\n",
       "    <tr style=\"text-align: right;\">\n",
       "      <th></th>\n",
       "      <th>is_tv_subscriber</th>\n",
       "      <th>is_movie_package_subscriber</th>\n",
       "      <th>subscription_age</th>\n",
       "      <th>bill_avg</th>\n",
       "      <th>reamining_contract</th>\n",
       "      <th>service_failure_count</th>\n",
       "      <th>download_avg</th>\n",
       "      <th>upload_avg</th>\n",
       "      <th>download_over_limit</th>\n",
       "      <th>churn</th>\n",
       "    </tr>\n",
       "  </thead>\n",
       "  <tbody>\n",
       "    <tr>\n",
       "      <th>0</th>\n",
       "      <td>1</td>\n",
       "      <td>0</td>\n",
       "      <td>11.95</td>\n",
       "      <td>25</td>\n",
       "      <td>0.14</td>\n",
       "      <td>0</td>\n",
       "      <td>8.4</td>\n",
       "      <td>2.3</td>\n",
       "      <td>0</td>\n",
       "      <td>0</td>\n",
       "    </tr>\n",
       "    <tr>\n",
       "      <th>1</th>\n",
       "      <td>0</td>\n",
       "      <td>0</td>\n",
       "      <td>8.22</td>\n",
       "      <td>0</td>\n",
       "      <td>0.00</td>\n",
       "      <td>0</td>\n",
       "      <td>0.0</td>\n",
       "      <td>0.0</td>\n",
       "      <td>0</td>\n",
       "      <td>1</td>\n",
       "    </tr>\n",
       "    <tr>\n",
       "      <th>2</th>\n",
       "      <td>1</td>\n",
       "      <td>0</td>\n",
       "      <td>8.91</td>\n",
       "      <td>16</td>\n",
       "      <td>0.00</td>\n",
       "      <td>0</td>\n",
       "      <td>13.7</td>\n",
       "      <td>0.9</td>\n",
       "      <td>0</td>\n",
       "      <td>1</td>\n",
       "    </tr>\n",
       "    <tr>\n",
       "      <th>3</th>\n",
       "      <td>0</td>\n",
       "      <td>0</td>\n",
       "      <td>6.87</td>\n",
       "      <td>21</td>\n",
       "      <td>0.00</td>\n",
       "      <td>1</td>\n",
       "      <td>0.0</td>\n",
       "      <td>0.0</td>\n",
       "      <td>0</td>\n",
       "      <td>1</td>\n",
       "    </tr>\n",
       "    <tr>\n",
       "      <th>4</th>\n",
       "      <td>0</td>\n",
       "      <td>0</td>\n",
       "      <td>6.39</td>\n",
       "      <td>0</td>\n",
       "      <td>0.00</td>\n",
       "      <td>0</td>\n",
       "      <td>0.0</td>\n",
       "      <td>0.0</td>\n",
       "      <td>0</td>\n",
       "      <td>1</td>\n",
       "    </tr>\n",
       "    <tr>\n",
       "      <th>...</th>\n",
       "      <td>...</td>\n",
       "      <td>...</td>\n",
       "      <td>...</td>\n",
       "      <td>...</td>\n",
       "      <td>...</td>\n",
       "      <td>...</td>\n",
       "      <td>...</td>\n",
       "      <td>...</td>\n",
       "      <td>...</td>\n",
       "      <td>...</td>\n",
       "    </tr>\n",
       "    <tr>\n",
       "      <th>72269</th>\n",
       "      <td>1</td>\n",
       "      <td>1</td>\n",
       "      <td>0.09</td>\n",
       "      <td>0</td>\n",
       "      <td>1.25</td>\n",
       "      <td>0</td>\n",
       "      <td>0.0</td>\n",
       "      <td>0.0</td>\n",
       "      <td>0</td>\n",
       "      <td>1</td>\n",
       "    </tr>\n",
       "    <tr>\n",
       "      <th>72270</th>\n",
       "      <td>1</td>\n",
       "      <td>0</td>\n",
       "      <td>0.06</td>\n",
       "      <td>1</td>\n",
       "      <td>1.63</td>\n",
       "      <td>0</td>\n",
       "      <td>0.8</td>\n",
       "      <td>0.0</td>\n",
       "      <td>0</td>\n",
       "      <td>1</td>\n",
       "    </tr>\n",
       "    <tr>\n",
       "      <th>72271</th>\n",
       "      <td>1</td>\n",
       "      <td>0</td>\n",
       "      <td>0.02</td>\n",
       "      <td>0</td>\n",
       "      <td>2.19</td>\n",
       "      <td>0</td>\n",
       "      <td>1.5</td>\n",
       "      <td>0.2</td>\n",
       "      <td>0</td>\n",
       "      <td>1</td>\n",
       "    </tr>\n",
       "    <tr>\n",
       "      <th>72272</th>\n",
       "      <td>0</td>\n",
       "      <td>0</td>\n",
       "      <td>0.01</td>\n",
       "      <td>0</td>\n",
       "      <td>0.72</td>\n",
       "      <td>0</td>\n",
       "      <td>0.0</td>\n",
       "      <td>0.0</td>\n",
       "      <td>0</td>\n",
       "      <td>1</td>\n",
       "    </tr>\n",
       "    <tr>\n",
       "      <th>72273</th>\n",
       "      <td>1</td>\n",
       "      <td>1</td>\n",
       "      <td>0.01</td>\n",
       "      <td>0</td>\n",
       "      <td>0.82</td>\n",
       "      <td>0</td>\n",
       "      <td>0.0</td>\n",
       "      <td>0.0</td>\n",
       "      <td>0</td>\n",
       "      <td>1</td>\n",
       "    </tr>\n",
       "  </tbody>\n",
       "</table>\n",
       "<p>71893 rows × 10 columns</p>\n",
       "</div>"
      ],
      "text/plain": [
       "       is_tv_subscriber  is_movie_package_subscriber  subscription_age  \\\n",
       "0                     1                            0             11.95   \n",
       "1                     0                            0              8.22   \n",
       "2                     1                            0              8.91   \n",
       "3                     0                            0              6.87   \n",
       "4                     0                            0              6.39   \n",
       "...                 ...                          ...               ...   \n",
       "72269                 1                            1              0.09   \n",
       "72270                 1                            0              0.06   \n",
       "72271                 1                            0              0.02   \n",
       "72272                 0                            0              0.01   \n",
       "72273                 1                            1              0.01   \n",
       "\n",
       "       bill_avg  reamining_contract  service_failure_count  download_avg  \\\n",
       "0            25                0.14                      0           8.4   \n",
       "1             0                0.00                      0           0.0   \n",
       "2            16                0.00                      0          13.7   \n",
       "3            21                0.00                      1           0.0   \n",
       "4             0                0.00                      0           0.0   \n",
       "...         ...                 ...                    ...           ...   \n",
       "72269         0                1.25                      0           0.0   \n",
       "72270         1                1.63                      0           0.8   \n",
       "72271         0                2.19                      0           1.5   \n",
       "72272         0                0.72                      0           0.0   \n",
       "72273         0                0.82                      0           0.0   \n",
       "\n",
       "       upload_avg  download_over_limit  churn  \n",
       "0             2.3                    0      0  \n",
       "1             0.0                    0      1  \n",
       "2             0.9                    0      1  \n",
       "3             0.0                    0      1  \n",
       "4             0.0                    0      1  \n",
       "...           ...                  ...    ...  \n",
       "72269         0.0                    0      1  \n",
       "72270         0.0                    0      1  \n",
       "72271         0.2                    0      1  \n",
       "72272         0.0                    0      1  \n",
       "72273         0.0                    0      1  \n",
       "\n",
       "[71893 rows x 10 columns]"
      ]
     },
     "execution_count": 62,
     "metadata": {},
     "output_type": "execute_result"
    }
   ],
   "source": [
    "data"
   ]
  },
  {
   "cell_type": "code",
   "execution_count": 85,
   "id": "d40e9491-d8f3-4670-946f-b9731917e44c",
   "metadata": {},
   "outputs": [
    {
     "name": "stdout",
     "output_type": "stream",
     "text": [
      "\u001b[1m1/1\u001b[0m \u001b[32m━━━━━━━━━━━━━━━━━━━━\u001b[0m\u001b[37m\u001b[0m \u001b[1m0s\u001b[0m 86ms/step\n"
     ]
    },
    {
     "data": {
      "text/plain": [
       "array([[0.98797935, 0.01087761]], dtype=float32)"
      ]
     },
     "execution_count": 85,
     "metadata": {},
     "output_type": "execute_result"
    }
   ],
   "source": [
    "inputs=np.array(X.iloc[0, :])\n",
    "a = (inputs - means) / (stds + eps)\n",
    "model_NN1.predict(a)"
   ]
  },
  {
   "cell_type": "code",
   "execution_count": 89,
   "id": "ce6298dd-4c2f-410b-8228-0392103c937a",
   "metadata": {},
   "outputs": [
    {
     "data": {
      "text/plain": [
       "array([0.  , 0.  , 6.39, 0.  , 0.  , 0.  , 0.  , 0.  , 0.  ])"
      ]
     },
     "execution_count": 89,
     "metadata": {},
     "output_type": "execute_result"
    }
   ],
   "source": [
    "np.array(X.iloc[4, :])"
   ]
  },
  {
   "cell_type": "code",
   "execution_count": null,
   "id": "92349a00-2ea4-445e-8d7f-de96cd88d659",
   "metadata": {},
   "outputs": [],
   "source": []
  }
 ],
 "metadata": {
  "kernelspec": {
   "display_name": "Python 3 (ipykernel)",
   "language": "python",
   "name": "python3"
  },
  "language_info": {
   "codemirror_mode": {
    "name": "ipython",
    "version": 3
   },
   "file_extension": ".py",
   "mimetype": "text/x-python",
   "name": "python",
   "nbconvert_exporter": "python",
   "pygments_lexer": "ipython3",
   "version": "3.12.0"
  }
 },
 "nbformat": 4,
 "nbformat_minor": 5
}
